{
 "cells": [
  {
   "cell_type": "markdown",
   "metadata": {},
   "source": [
    "## CX4240 project\n",
    "\n",
    "# Classification of Acute Lymphoblastic Leukemia in Blood Cell Images Using Machine Learning\n",
    "\n",
    "\n",
    "\n"
   ]
  },
  {
   "cell_type": "code",
   "execution_count": 2,
   "metadata": {},
   "outputs": [],
   "source": [
    "import os\n",
    "import numpy as np\n",
    "import cv2\n",
    "import matplotlib.pyplot as plt\n",
    "import glob\n",
    "import mahotas as mt\n",
    "import pywt\n",
    "from skimage.feature import local_binary_pattern\n",
    "%matplotlib inline\n"
   ]
  },
  {
   "cell_type": "code",
   "execution_count": 3,
   "metadata": {},
   "outputs": [],
   "source": [
    " \n",
    "img_path_all = r'C:\\Users\\1000j\\CX4240+\\Cell_Images\\C-NMC_training_data\\fold_0\\all'\n",
    "img_path_hem = r'C:\\Users\\1000j\\CX4240+\\Cell_Images\\C-NMC_training_data\\fold_0\\hem'\n",
    "# Load all images \n",
    "all0_color = np.array([cv2.imread(file) for file in glob.glob(img_path_all +'/*bmp')])\n",
    "all0_gray = np.array([cv2.imread(file,0) for file in glob.glob(img_path_all +'/*bmp')])\n",
    "thresh, all0_binary = cv2.threshold(all0_gray,0,255,cv2.THRESH_BINARY)\n",
    "# Load hem images\n",
    "hem0_color = np.array([cv2.imread(file) for file in glob.glob(img_path_hem +'/*bmp')])\n",
    "hem0_gray = np.array([cv2.imread(file,0) for file in glob.glob(img_path_hem +'/*bmp')])\n",
    "thresh, hem0_binary = cv2.threshold(hem0_gray,0,255,cv2.THRESH_BINARY)\n",
    "#img = cv2.imread(r'C:\\Users\\1000j\\CX4240+\\Cell_Images\\C-NMC_training_data\\fold_0\\all\\UID_1_1_1_all.bmp')\n"
   ]
  },
  {
   "cell_type": "code",
   "execution_count": 4,
   "metadata": {},
   "outputs": [],
   "source": [
    "### Texture features\n",
    "def Haralick(img):\n",
    "    '''Haralick texture using Gray-level co-occurrence matrix (GLCM)\n",
    "    arg: \n",
    "        img: N number of MxM grayscale images\n",
    "    return: \n",
    "        Haralick_texture: Nx13 array with 13 features \n",
    "    '''\n",
    "    Haralick_texture = []\n",
    "    for i in range(len(img)):\n",
    "        feat = mt.features.haralick(img[i,:,:], return_mean=True)\n",
    "        Haralick_texture.append(feat)\n",
    "    Haralick_texture = np.array(Haralick_texture)     \n",
    "    return Haralick_texture\n",
    "    \n",
    "# Local Binary Patterns\n",
    "# lbp = feature.local_binary_pattern(all0_gray, , radius, method=\"uniform\")\n",
    "\n",
    "def Haar_wavelet(img):\n",
    "    '''Extract Haar wavelet texture features\n",
    "    Means and variances of low-pass filtered appriximation image \n",
    "    and high-pass filterd in horizontal, vertical, and diagonal directions\n",
    "    arg:\n",
    "        img: N number of MxM grayscale images\n",
    "    return: \n",
    "        Haar_wavelet_features: Nx8 array with 8 features\n",
    "            (cA_mean, cH_mean, cV_mean, cD_mean, cA_var, cH_var, cV_var, and cD_var)\n",
    "    '''\n",
    "    cA, (cH, cV, cD) = pywt.dwt2(img,'haar')\n",
    "    n = len(cA)\n",
    "    cA_mean = np.reshape(cA.mean(axis=(1,2)), (n,1))\n",
    "    cH_mean = np.reshape(cH.mean(axis=(1,2)), (n,1))\n",
    "    cV_mean = np.reshape(cV.mean(axis=(1,2)), (n,1))\n",
    "    cD_mean = np.reshape(cD.mean(axis=(1,2)), (n,1))\n",
    "    cA_var = np.reshape(cA.var(axis=(1,2)), (n,1))\n",
    "    cH_var = np.reshape(cH.var(axis=(1,2)), (n,1))\n",
    "    cV_var = np.reshape(cV.var(axis=(1,2)), (n,1))\n",
    "    cD_var = np.reshape(cD.var(axis=(1,2)), (n,1))\n",
    "    \n",
    "    Haar_wavelet_features = np.hstack((cA_mean,cH_mean,cV_mean,cD_mean,cA_var,cH_var,cV_var,cD_var))\n",
    "    return Haar_wavelet_features\n"
   ]
  },
  {
   "cell_type": "code",
   "execution_count": 5,
   "metadata": {},
   "outputs": [],
   "source": [
    "Haralick_all = Haralick(all0_gray)\n",
    "Haralick_hem = Haralick(hem0_gray)\n",
    "     \n",
    "Haar_wavelet_all = Haar_wavelet(all0_gray)\n",
    "Haar_vavelet_hem = Haar_wavelet(hem0_gray)    "
   ]
  },
  {
   "cell_type": "code",
   "execution_count": null,
   "metadata": {},
   "outputs": [],
   "source": []
  }
 ],
 "metadata": {
  "kernelspec": {
   "display_name": "Python 3",
   "language": "python",
   "name": "python3"
  },
  "language_info": {
   "codemirror_mode": {
    "name": "ipython",
    "version": 3
   },
   "file_extension": ".py",
   "mimetype": "text/x-python",
   "name": "python",
   "nbconvert_exporter": "python",
   "pygments_lexer": "ipython3",
   "version": "3.7.1"
  }
 },
 "nbformat": 4,
 "nbformat_minor": 2
}
