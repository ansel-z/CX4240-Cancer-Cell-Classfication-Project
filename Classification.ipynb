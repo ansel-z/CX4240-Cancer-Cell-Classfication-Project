{
 "cells": [
  {
   "cell_type": "markdown",
   "metadata": {},
   "source": [
    "## CX4240 project\n",
    "\n",
    "## Classification of Acute Lymphoblastic Leukemia (ALL) in Blood Cell Images Using Machine Learning\n",
    "\n",
    "# Classifications\n"
   ]
  },
  {
   "cell_type": "code",
   "execution_count": 15,
   "metadata": {},
   "outputs": [],
   "source": [
    "import os\n",
    "import numpy as np\n",
    "import cv2\n",
    "import matplotlib.pyplot as plt\n",
    "import scipy.stats as stat\n",
    "import sklearn.preprocessing as pre\n",
    "import glob\n",
    "import mahotas as mt\n",
    "import pywt\n",
    "import seaborn as sns\n",
    "import pandas as pd\n",
    "import csv \n",
    "import matplotlib as mpl\n",
    "import time\n",
    "\n",
    "from mpl_toolkits.mplot3d import Axes3D\n",
    "from sklearn.preprocessing import MinMaxScaler\n",
    "from sklearn.preprocessing import StandardScaler\n",
    "from sklearn.ensemble import ExtraTreesClassifier\n",
    "from sklearn.decomposition import PCA\n",
    "from sklearn import svm\n",
    "from sklearn.linear_model import LogisticRegression\n",
    "from sklearn.model_selection import train_test_split\n",
    "from sklearn.ensemble import RandomForestClassifier\n",
    "from sklearn import metrics\n",
    "from sklearn.model_selection import RandomizedSearchCV\n",
    "from sklearn.model_selection import GridSearchCV\n",
    "from mlens.ensemble import SuperLearner\n",
    "from mlens.metrics import make_scorer\n",
    "\n",
    "\n",
    "%matplotlib inline\n"
   ]
  },
  {
   "cell_type": "markdown",
   "metadata": {},
   "source": [
    "## Load data"
   ]
  },
  {
   "cell_type": "code",
   "execution_count": 17,
   "metadata": {},
   "outputs": [
    {
     "name": "stdout",
     "output_type": "stream",
     "text": [
      "(10661, 16)\n",
      "(1867, 16)\n"
     ]
    },
    {
     "name": "stderr",
     "output_type": "stream",
     "text": [
      "C:\\Users\\1000j\\Anaconda3\\lib\\site-packages\\ipykernel_launcher.py:2: FutureWarning: Method .as_matrix will be removed in a future version. Use .values instead.\n",
      "  \n",
      "C:\\Users\\1000j\\Anaconda3\\lib\\site-packages\\ipykernel_launcher.py:3: FutureWarning: Method .as_matrix will be removed in a future version. Use .values instead.\n",
      "  This is separate from the ipykernel package so we can avoid doing imports until\n"
     ]
    },
    {
     "data": {
      "text/plain": [
       "['Cell Size',\n",
       " 'Perimeter',\n",
       " 'Intensity Variance',\n",
       " 'Red Mean',\n",
       " 'Value Mean',\n",
       " 'Hue Mean',\n",
       " 'Saturation Mean',\n",
       " 'Blue Mean',\n",
       " 'Green Mean',\n",
       " 'Form Factor',\n",
       " 'Intensity Mean',\n",
       " 'Wavelet Approximation Mean',\n",
       " 'Haralick Sum Average',\n",
       " 'Boundary Roughness Variance',\n",
       " 'Haralick Inverse Difference Moment',\n",
       " 'Haralick Difference Variance']"
      ]
     },
     "execution_count": 17,
     "metadata": {},
     "output_type": "execute_result"
    }
   ],
   "source": [
    "train_df = pd.read_csv('Data/RF_train_data.csv')\n",
    "train = pd.DataFrame.as_matrix(train_df)\n",
    "test = pd.DataFrame.as_matrix(pd.read_csv('Data/RF_test_data.csv'))\n",
    "train_data = train[:,2:]\n",
    "label_train = np.array(train[:,1], dtype=int)\n",
    "test_data = test[:,2:]\n",
    "label_test = np.array(test[:,1], dtype=int)\n",
    "features = list(train_df.columns[2:]) \n",
    "print(np.shape(train_data))\n",
    "print(np.shape(test_data))\n",
    "n_ALL = 7272\n",
    "n_hem = 3389\n",
    "features"
   ]
  },
  {
   "cell_type": "markdown",
   "metadata": {},
   "source": [
    "# Classification"
   ]
  },
  {
   "cell_type": "code",
   "execution_count": 39,
   "metadata": {},
   "outputs": [],
   "source": [
    "def accuracy(label, pred):\n",
    "    \"\"\"\n",
    "    Calculates true positive, false positive, false negative, true negative, and Accuracy\n",
    "    arg:\n",
    "        label: Nx1 vector of true label\n",
    "        pred: Nx1 vector of predicted labels\n",
    "    return: \n",
    "        accuracy\n",
    "    \"\"\"\n",
    "    TP,FP,TN,FN = 0,0,0,0\n",
    "    for i in range(len(pred)):\n",
    "        if (pred[i]==1 and label[i]==1):\n",
    "            TP = TP + 1\n",
    "        elif (pred[i]==1 and label[i]==0):\n",
    "            FP = FP + 1\n",
    "        elif (pred[i]==0 and label[i]==0):\n",
    "            TN = TN + 1\n",
    "        elif (pred[i]==0 and label[i]==1):\n",
    "            FN = FN + 1\n",
    "        else:\n",
    "            print('ERROR: Different values')\n",
    "    print('True Positive:  ',TP)\n",
    "    print('False Positive: ',FP)\n",
    "    print('True Negative:  ',TN)\n",
    "    print('False Negative: ',FN)\n",
    "    return (TP+TN)/(TP+TN+FP+FN)\n",
    "\n",
    "\n",
    "def get_errors(prediction, label):\n",
    "    \"\"\"\n",
    "    args:\n",
    "        label: numpy array of ground truth (1 is positive, 0 is negative)\n",
    "        prediction: numpy array of prediction\n",
    "    returns:\n",
    "        false_positive: integer of occurences of false positives\n",
    "        false_negative: integer of occurences of false negatives\n",
    "        true_positive: integer of occurences of true positives\n",
    "        true_negative: integer of occurences of true negatives\n",
    "    \"\"\"\n",
    "    diff = label - prediction\n",
    "    false_positive = np.count_nonzero(diff == -1)\n",
    "    false_negative = np.count_nonzero(diff == 1)\n",
    "    total_positive = np.sum(label)\n",
    "    total_negative = int(len(label) - total_positive)\n",
    "    true_positive = int(total_positive - false_negative)\n",
    "    true_negative = total_negative - false_positive\n",
    "    accuracy = np.round((true_positive + true_negative) / \n",
    "                                       (total_positive + total_negative), decimals=3)\n",
    "    print('True Positive:  ',true_positive)\n",
    "    print('False Positive: ',false_positive)\n",
    "    print('True Negative:  ',true_negative)\n",
    "    print('False Negative: ',false_negative)\n",
    "    print('Accuracy:       ',accuracy)\n",
    "    return accuracy"
   ]
  },
  {
   "cell_type": "markdown",
   "metadata": {},
   "source": [
    "## Support Vector Machine (SVM)"
   ]
  },
  {
   "cell_type": "code",
   "execution_count": 5,
   "metadata": {},
   "outputs": [
    {
     "name": "stdout",
     "output_type": "stream",
     "text": [
      "SVM gamma and C selected and model fitted in 46.73 s\n",
      "best score: 0.857424256636338\n",
      "best C value: 7\n",
      "best gamma value: 5\n"
     ]
    }
   ],
   "source": [
    "# SVM\n",
    "# Tuning the hyperparameters\n",
    "param_grid =  {'C': [7], 'gamma': [5], 'kernel': ['rbf'], 'probability':[True]}\n",
    "SV_clf = GridSearchCV(svm.SVC(), param_grid, cv=5)\n",
    "t0 = time.time()\n",
    "SV_clf.fit(train_data, label_train)\n",
    "svc_fit = time.time() - t0\n",
    "print(\"SVM gamma and C selected and model fitted in %.2f s\"\n",
    "      % svc_fit)\n",
    "\n",
    "\n",
    "# save the best hyperparameters\n",
    "svm_c, svm_gamma = SV_clf.best_estimator_.C, SV_clf.best_estimator_.gamma\n",
    "\n",
    "print('best score:', SV_clf.best_score_)                               \n",
    "print('best C value:', svm_c)\n",
    "print('best gamma value:', svm_gamma)\n"
   ]
  },
  {
   "cell_type": "code",
   "execution_count": 57,
   "metadata": {},
   "outputs": [
    {
     "name": "stdout",
     "output_type": "stream",
     "text": [
      "SVM Results\n",
      "-------------------------\n",
      "Training Data:\n",
      "True Positive:   7009\n",
      "False Positive:  849\n",
      "True Negative:   2540\n",
      "False Negative:  263\n",
      "Accuracy:        0.896\n",
      " \n",
      "Test Data:\n",
      "True Positive:   1095\n",
      "False Positive:  370\n",
      "True Negative:   278\n",
      "False Negative:  124\n",
      "Accuracy:        0.735\n"
     ]
    }
   ],
   "source": [
    "# see how it works on the training data\n",
    "print('SVM Results')\n",
    "print('-------------------------')\n",
    "print('Training Data:')\n",
    "train_predictions = SV_clf.predict(train_data)\n",
    "get_errors(train_predictions, label_train)\n",
    "\n",
    "\n",
    "# see how it works on the test data\n",
    "print(' ')\n",
    "print('Test Data:')\n",
    "test_predictions = SV_clf.predict(test_data)\n",
    "SVM_accuracy = get_errors(test_predictions, label_test)\n",
    "\n",
    "accuracies = [SVM_accuracy]"
   ]
  },
  {
   "cell_type": "markdown",
   "metadata": {},
   "source": [
    "## Random Forest (RF)"
   ]
  },
  {
   "cell_type": "code",
   "execution_count": 7,
   "metadata": {},
   "outputs": [
    {
     "name": "stdout",
     "output_type": "stream",
     "text": [
      "Fitting 3 folds for each of 100 candidates, totalling 300 fits\n"
     ]
    },
    {
     "name": "stderr",
     "output_type": "stream",
     "text": [
      "[Parallel(n_jobs=-1)]: Using backend LokyBackend with 12 concurrent workers.\n",
      "[Parallel(n_jobs=-1)]: Done  17 tasks      | elapsed:  2.2min\n",
      "[Parallel(n_jobs=-1)]: Done 138 tasks      | elapsed: 13.8min\n",
      "[Parallel(n_jobs=-1)]: Done 300 out of 300 | elapsed: 29.8min finished\n"
     ]
    },
    {
     "data": {
      "text/plain": [
       "RandomizedSearchCV(cv=3, error_score='raise-deprecating',\n",
       "          estimator=RandomForestClassifier(bootstrap=True, class_weight=None, criterion='gini',\n",
       "            max_depth=None, max_features='auto', max_leaf_nodes=None,\n",
       "            min_impurity_decrease=0.0, min_impurity_split=None,\n",
       "            min_samples_leaf=1, min_samples_split=2,\n",
       "            min_weight_fraction_leaf=0.0, n_estimators='warn', n_jobs=None,\n",
       "            oob_score=False, random_state=None, verbose=0,\n",
       "            warm_start=False),\n",
       "          fit_params=None, iid='warn', n_iter=100, n_jobs=-1,\n",
       "          param_distributions={'n_estimators': [200, 400, 600, 800, 1000, 1200, 1400, 1600, 1800, 2000], 'max_features': ['auto', 'sqrt'], 'max_depth': [10, 20, 30, 40, 50, 60, 70, 80, 90, 100, 110, None], 'min_samples_split': [2, 5, 10], 'min_samples_leaf': [1, 2, 4], 'bootstrap': [True, False]},\n",
       "          pre_dispatch='2*n_jobs', random_state=42, refit=True,\n",
       "          return_train_score='warn', scoring=None, verbose=2)"
      ]
     },
     "execution_count": 7,
     "metadata": {},
     "output_type": "execute_result"
    }
   ],
   "source": [
    "# Tuning the hyperparameters\n",
    "n_estimators = [int(x) for x in np.linspace(start = 200, stop = 2000, num = 10)]\n",
    "max_features = ['auto', 'sqrt']\n",
    "max_depth = [int(x) for x in np.linspace(10, 110, num = 11)]\n",
    "max_depth.append(None)\n",
    "min_samples_split = [2, 5, 10]\n",
    "min_samples_leaf = [1, 2, 4]\n",
    "bootstrap = [True, False]\n",
    "# Create the random grid\n",
    "random_grid = {'n_estimators': n_estimators,\n",
    "               'max_features': max_features,\n",
    "               'max_depth': max_depth,\n",
    "               'min_samples_split': min_samples_split,\n",
    "               'min_samples_leaf': min_samples_leaf,\n",
    "               'bootstrap': bootstrap}\n",
    "\n",
    "\n",
    "# Use the random grid to search for best hyperparameters\n",
    "# First create the base model to tune\n",
    "rf = RandomForestClassifier()\n",
    "# Random search of parameters, using 3 fold cross validation, \n",
    "# search across 100 different combinations, and use all available cores\n",
    "RF_clf = RandomizedSearchCV(estimator = rf, param_distributions = random_grid, n_iter = 100, cv = 3, verbose=2, random_state=42, n_jobs = -1)\n",
    "# Fit the random search model\n",
    "RF_clf.fit(train_data, label_train)"
   ]
  },
  {
   "cell_type": "code",
   "execution_count": 58,
   "metadata": {},
   "outputs": [
    {
     "name": "stdout",
     "output_type": "stream",
     "text": [
      "RandomForestClassifier(bootstrap=True, class_weight=None, criterion='gini',\n",
      "            max_depth=50, max_features='sqrt', max_leaf_nodes=None,\n",
      "            min_impurity_decrease=0.0, min_impurity_split=None,\n",
      "            min_samples_leaf=1, min_samples_split=2,\n",
      "            min_weight_fraction_leaf=0.0, n_estimators=200, n_jobs=None,\n",
      "            oob_score=False, random_state=None, verbose=0,\n",
      "            warm_start=False)\n",
      "RF Results\n",
      "-------------------------\n",
      "Training Data:\n",
      "True Positive:   7272\n",
      "False Positive:  0\n",
      "True Negative:   3389\n",
      "False Negative:  0\n",
      "Accuracy:        1.0\n",
      " \n",
      "Test Data:\n",
      "True Positive:   1115\n",
      "False Positive:  381\n",
      "True Negative:   267\n",
      "False Negative:  104\n",
      "Accuracy:        0.74\n"
     ]
    }
   ],
   "source": [
    "# print optomized parameters\n",
    "print(RF_clf.best_estimator_)\n",
    "\n",
    "\n",
    "# see how it works on the training data\n",
    "print('RF Results')\n",
    "print('-------------------------')\n",
    "print('Training Data:')\n",
    "train_predictions = RF_clf.predict(train_data)\n",
    "get_errors(train_predictions, label_train)\n",
    "\n",
    "\n",
    "# see how it works on the test data\n",
    "print(' ')\n",
    "print('Test Data:')\n",
    "test_predictions = RF_clf.predict(test_data)\n",
    "RF_accuracy = get_errors(test_predictions, label_test)\n",
    "\n",
    "accuracies.append(RF_accuracy)"
   ]
  },
  {
   "cell_type": "code",
   "execution_count": 59,
   "metadata": {},
   "outputs": [
    {
     "name": "stdout",
     "output_type": "stream",
     "text": [
      "RF Results\n",
      "-------------------------\n",
      "Training Data:\n",
      "True Positive:   7220\n",
      "False Positive:  334\n",
      "True Negative:   3055\n",
      "False Negative:  52\n",
      "Accuracy:        0.964\n",
      " \n",
      "Test Data:\n",
      "True Positive:   1123\n",
      "False Positive:  393\n",
      "True Negative:   255\n",
      "False Negative:  96\n",
      "Accuracy:        0.738\n"
     ]
    }
   ],
   "source": [
    "# more conservative rf\n",
    "rf2 = RandomForestClassifier(bootstrap=True, class_weight=None, criterion='gini',\n",
    "            max_depth=75, max_features='sqrt', max_leaf_nodes=None,\n",
    "            min_impurity_decrease=0.0, min_impurity_split=None,\n",
    "            min_samples_leaf=3, min_samples_split=5,\n",
    "            min_weight_fraction_leaf=0.0, n_estimators=1000, n_jobs=None,\n",
    "            oob_score=False, random_state=None, verbose=0,\n",
    "            warm_start=False)\n",
    "\n",
    "# fit\n",
    "rf2.fit(train_data, label_train)\n",
    "\n",
    "\n",
    "# see how it works on the training data\n",
    "print('RF Results')\n",
    "print('-------------------------')\n",
    "print('Training Data:')\n",
    "train_predictions = rf2.predict(train_data)\n",
    "get_errors(train_predictions, label_train)\n",
    "\n",
    "\n",
    "# see how it works on the test data\n",
    "print(' ')\n",
    "print('Test Data:')\n",
    "test_predictions = rf2.predict(test_data)\n",
    "RF2_accuracy = get_errors(test_predictions, label_test)\n",
    "\n",
    "accuracies.append(RF2_accuracy)"
   ]
  },
  {
   "cell_type": "markdown",
   "metadata": {},
   "source": [
    "## K Nearest Neighbors"
   ]
  },
  {
   "cell_type": "code",
   "execution_count": 22,
   "metadata": {},
   "outputs": [],
   "source": [
    "from sklearn.neighbors import KNeighborsClassifier\n",
    "from sklearn.model_selection import KFold"
   ]
  },
  {
   "cell_type": "code",
   "execution_count": 24,
   "metadata": {},
   "outputs": [],
   "source": [
    "\"\"\"\n",
    "Find best K values using cross validation\n",
    "\"\"\"\n",
    "def k_fold_test(train_data, train_label, train_index, test_index, k_value):\n",
    "    KNN = KNeighborsClassifier(n_neighbors = k_value, weights=\"uniform\", algorithm=\"brute\") \n",
    "    KNN.fit(train_data[train_index,:], train_label[train_index])\n",
    "    mean_accuracy_current_fold = KNN.score(train_data[test_index,:], train_label[test_index])\n",
    "    return mean_accuracy_current_fold\n",
    "\n",
    "def k_value_use_k_fold(train_data, train_label, k_value, kfold_nsplit):\n",
    "    all_mean_accuracy = []\n",
    "    kf = KFold(n_splits = kfold_nsplit, shuffle = False)\n",
    "    for train_index, test_index in kf.split(train_data):\n",
    "        mean_accuracy_current_fold = k_fold_test(train_data, train_label, train_index, test_index, k_value)\n",
    "        all_mean_accuracy.append(mean_accuracy_current_fold)\n",
    "    average_accuracy = np.round(np.mean(np.array(all_mean_accuracy)), decimals=4)\n",
    "    print(\"{} \\t {}\".format(k_value, average_accuracy))\n",
    "    return average_accuracy"
   ]
  },
  {
   "cell_type": "code",
   "execution_count": 37,
   "metadata": {},
   "outputs": [
    {
     "name": "stdout",
     "output_type": "stream",
     "text": [
      "K val \t Avg. Accuracy\n",
      "--------------------------\n",
      "4 \t 0.778\n",
      "6 \t 0.7993\n",
      "8 \t 0.8078\n",
      "9 \t 0.8188\n",
      "10 \t 0.8126\n",
      "30 \t 0.8182\n",
      "50 \t 0.8144\n",
      "90 \t 0.8101\n",
      "100 \t 0.8096\n",
      "150 \t 0.8045\n",
      "200 \t 0.8012\n"
     ]
    },
    {
     "data": {
      "image/png": "[encoded data removed]",
      "text/plain": [
       "<Figure size 720x576 with 1 Axes>"
      ]
     },
     "metadata": {
      "needs_background": "light"
     },
     "output_type": "display_data"
    }
   ],
   "source": [
    "\"\"\"\n",
    "Actual Testing\n",
    "\"\"\"\n",
    "number_of_splits = 10\n",
    "k_value_list = [4,6,8,9,10, 30, 50, 90, 100, 150, 200]\n",
    "\n",
    "print('K val \\t Avg. Accuracy')\n",
    "print('--------------------------')\n",
    "test_tuple_list = []\n",
    "for k_value in k_value_list:\n",
    "    average_accuracy = k_value_use_k_fold(train_data, label_train, k_value, number_of_splits)\n",
    "    test_tuple_list.append((average_accuracy, k_value))\n",
    "    \n",
    "x = [x[1] for x in test_tuple_list]\n",
    "y = [x[0] for x in test_tuple_list]\n",
    "plt.figure(figsize=(10,8))\n",
    "plt.plot(x,y)\n",
    "plt.plot(x,y,'or')\n",
    "plt.title(\"K Value vs. Average Accuracy\", fontsize=15)\n",
    "plt.xlabel(\"K Value\", fontsize=10)\n",
    "plt.ylabel(\"Average Accuracy\", fontsize=10)\n",
    "plt.show()\n",
    "\n",
    "test_tuple_list.sort(reverse = True)\n",
    "best_k_value = test_tuple_list[0][1]"
   ]
  },
  {
   "cell_type": "code",
   "execution_count": 60,
   "metadata": {},
   "outputs": [
    {
     "name": "stdout",
     "output_type": "stream",
     "text": [
      "Best K Value is 9\n",
      " \n",
      "KNN Results\n",
      "-------------------------\n",
      "Training Data\n",
      "True Positive:   6933\n",
      "False Positive:  925\n",
      "True Negative:   2464\n",
      "False Negative:  339\n",
      "Accuracy:        0.881\n",
      " \n",
      "Test Data\n",
      "True Positive:   1116\n",
      "False Positive:  392\n",
      "True Negative:   256\n",
      "False Negative:  103\n",
      "Accuracy:        0.735\n"
     ]
    }
   ],
   "source": [
    "# Use the best K_value\n",
    "\n",
    "print(\"Best K Value is {}\".format(best_k_value))\n",
    "print(' ')\n",
    "KNN_clf = KNeighborsClassifier(n_neighbors = best_k_value, weights=\"uniform\", algorithm=\"brute\")\n",
    "\n",
    "\n",
    "# train and predict\n",
    "KNN_clf.fit(train_data, label_train)\n",
    "KNN_train_pred = KNN_clf.predict(train_data)\n",
    "KNN_test_pred = KNN_clf.predict(test_data)\n",
    "\n",
    "\n",
    "# print results\n",
    "# train results\n",
    "print('KNN Results')\n",
    "print('-------------------------')\n",
    "print('Training Data')\n",
    "get_errors(KNN_train_pred, label_train)\n",
    "\n",
    "# test results\n",
    "print(' ')\n",
    "print('Test Data')\n",
    "KNN_accuracy = get_errors(KNN_test_pred, label_test)\n",
    "\n",
    "accuracies.append(KNN_accuracy)"
   ]
  },
  {
   "cell_type": "markdown",
   "metadata": {},
   "source": [
    "## Ensemble"
   ]
  },
  {
   "cell_type": "code",
   "execution_count": 49,
   "metadata": {},
   "outputs": [],
   "source": [
    "from sklearn.ensemble import BaggingClassifier\n",
    "from sklearn.tree import DecisionTreeClassifier\n",
    "from sklearn import model_selection\n",
    "from sklearn.ensemble import AdaBoostClassifier\n",
    "from sklearn.ensemble import GradientBoostingClassifier\n",
    "from sklearn.linear_model import LogisticRegression\n",
    "from sklearn.svm import SVC\n",
    "#import xgboost as xgb\n",
    "from sklearn.ensemble import VotingClassifier\n",
    "\n",
    "from sklearn.metrics import accuracy_score\n",
    "\n",
    "seed = 2034\n",
    "np.random.seed(seed)"
   ]
  },
  {
   "cell_type": "code",
   "execution_count": 61,
   "metadata": {},
   "outputs": [
    {
     "name": "stdout",
     "output_type": "stream",
     "text": [
      "Max Voting Results\n",
      "-------------------------\n",
      "Train Data\n",
      "True Positive:   7116\n",
      "False Positive:  639\n",
      "True Negative:   2750\n",
      "False Negative:  156\n",
      "Accuracy:        0.925\n",
      " \n",
      "Test Data\n",
      "True Positive:   1116\n",
      "False Positive:  383\n",
      "True Negative:   265\n",
      "False Negative:  103\n",
      "Accuracy:        0.74\n"
     ]
    },
    {
     "data": {
      "text/plain": [
       "[0.735, 0.74, 0.738, 0.735, 0.74]"
      ]
     },
     "execution_count": 61,
     "metadata": {},
     "output_type": "execute_result"
    }
   ],
   "source": [
    "# Max Voting\n",
    "# create models with the optomizal hyperparameters from above\n",
    "svc = svm.SVC(C=svm_c, gamma=svm_gamma, kernel='rbf', probability=True)\n",
    "rf = RandomForestClassifier(bootstrap=True, class_weight=None, criterion='gini',\n",
    "            max_depth=110, max_features='sqrt', max_leaf_nodes=None,\n",
    "            min_impurity_decrease=0.0, min_impurity_split=None,\n",
    "            min_samples_leaf=1, min_samples_split=2,\n",
    "            min_weight_fraction_leaf=0.0, n_estimators=1000, n_jobs=None,\n",
    "            oob_score=False, random_state=None, verbose=0,\n",
    "            warm_start=False)\n",
    "knn = KNeighborsClassifier(n_neighbors = best_k_value, weights=\"uniform\", algorithm=\"brute\")\n",
    "ests = [('svc', svc), ('rf', rf), ('knn', knn)]\n",
    "\n",
    "# create the max-vote classifier\n",
    "MV_clf = VotingClassifier(estimators=ests, voting='soft')\n",
    "\n",
    "# train and predict\n",
    "MV_clf.fit(train_data, label_train)\n",
    "mv_train_pred = MV_clf.predict(train_data)\n",
    "mv_test_pred = MV_clf.predict(test_data)\n",
    "\n",
    "\n",
    "# print results\n",
    "# train results\n",
    "print('Max Voting Results')\n",
    "print('-------------------------')\n",
    "print('Train Data')\n",
    "get_errors(mv_train_pred, label_train)\n",
    "\n",
    "# test results\n",
    "print(' ')\n",
    "print('Test Data')\n",
    "Voting_accuracy = get_errors(mv_test_pred, label_test)\n",
    "\n",
    "accuracies.append(Voting_accuracy)\n",
    "accuracies"
   ]
  },
  {
   "cell_type": "code",
   "execution_count": null,
   "metadata": {},
   "outputs": [],
   "source": [
    "# Stacking\n",
    "ensemble = SuperLearner(scorer=accuracy_score, random_state=seed, verbose=2)\n",
    "\n",
    "# Build the first layer\n",
    "ensemble.add([KNeighborsClassifier(), svm.SVC()])\n",
    "\n",
    "# Attach the final meta estimator\n",
    "ensemble.add_meta(LogisticRegression())\n",
    "\n",
    "# Fit ensemble\n",
    "ensemble.fit(train_data, label_train)\n",
    "\n",
    "# Predict train data\n",
    "preds = ensemble.predict(train_data)"
   ]
  },
  {
   "cell_type": "markdown",
   "metadata": {},
   "source": [
    "### ROC Curve"
   ]
  },
  {
   "cell_type": "code",
   "execution_count": 22,
   "metadata": {},
   "outputs": [
    {
     "data": {
      "image/png": "[encoded data removed]",
      "text/plain": [
       "<Figure size 720x720 with 1 Axes>"
      ]
     },
     "metadata": {
      "needs_background": "light"
     },
     "output_type": "display_data"
    }
   ],
   "source": [
    "from sklearn.metrics import roc_curve\n",
    "SVM_prob = SV_clf.predict_proba(test_data)[:,1]\n",
    "FPR_SVM, TPR_SVM, _ = roc_curve(label_test, SVM_prob)\n",
    "RF_prob = rf2.predict_proba(test_data)[:,1]\n",
    "FPR_RF, TPR_RF, _ = roc_curve(label_test, RF_prob)\n",
    "KNN_prob = KNN_clf.predict_proba(test_data)[:,1]\n",
    "FPR_KNN, TPR_KNN, _ = roc_curve(label_test, KNN_prob)\n",
    "MV_prob = MV_clf.predict_proba(test_data)[:,1]\n",
    "FPR_MV, TPR_MV, _ = roc_curve(label_test, MV_prob)\n",
    "\n",
    "\"\"\"\n",
    "Bag_prob = Bag.predict_proba(test_data)[:,1]\n",
    "FPR_Bag, TPR_Bag, _ = roc_curve(label_test, Bag_prob)\n",
    "Ada_prob = Ada.predict_proba(test_data)[:,1]\n",
    "FPR_Ada, TPR_Ada, _ = roc_curve(label_test, Ada_prob)\n",
    "SGB_prob = SGB.predict_proba(test_data)[:,1]\n",
    "FPR_SGB, TPR_SGB, _ = roc_curve(label_test, SGB_prob)\n",
    "XGB_prob = XGB.predict_proba(test_data)[:,1]\n",
    "FPR_XGB, TPR_XGB, _ = roc_curve(label_test, XGB_prob)\n",
    "Vot_prob = Voting.predict_proba(test_data)[:,1]\n",
    "FPR_Vot, TPR_Vot, _ = roc_curve(label_test, Vot_prob)\n",
    "\"\"\"\n",
    "\n",
    "\n",
    "plt.figure(1, figsize = (10,10))\n",
    "plt.plot(FPR_SVM, TPR_SVM, label='SVM')\n",
    "plt.plot(FPR_RF, TPR_RF, label='RF')\n",
    "plt.plot(FPR_KNN, TPR_KNN, label='KNN')\n",
    "plt.plot(FPR_MV, TPR_MV, label='MV')\n",
    "\n",
    "\"\"\"\n",
    "plt.plot(FPR_Bag, TPR_Bag, label='Bag')\n",
    "plt.plot(FPR_Ada, TPR_Ada, label='Ada')\n",
    "plt.plot(FPR_SGB, TPR_SGB, label='SGB')\n",
    "plt.plot(FPR_XGB, TPR_XGB, label='XGB')\n",
    "plt.plot(FPR_Vot, TPR_Vot, label='Voting')\n",
    "\"\"\"\n",
    "plt.xlabel('False positive rate')\n",
    "plt.ylabel('True positive rate')\n",
    "plt.title('ROC curve')\n",
    "plt.legend(loc='best')\n",
    "plt.show()"
   ]
  },
  {
   "cell_type": "code",
   "execution_count": 87,
   "metadata": {},
   "outputs": [
    {
     "name": "stderr",
     "output_type": "stream",
     "text": [
      "No handles with labels found to put in legend.\n"
     ]
    },
    {
     "data": {
      "image/png": "[encoded data removed]",
      "text/plain": [
       "<Figure size 864x576 with 1 Axes>"
      ]
     },
     "metadata": {
      "needs_background": "light"
     },
     "output_type": "display_data"
    }
   ],
   "source": [
    "# Plot accuracies\n",
    "\n",
    "models = ['SVM', 'RF', 'RF2', 'KNN', 'Voting']\n",
    "x = np.arange(len(models))\n",
    "width = 0.35  \n",
    "\n",
    "fig, ax = plt.subplots(figsize=(12, 8))\n",
    "rects = ax.bar(x, accuracies, width, color='royalblue')\n",
    "ax.set_title(\"Accuracy Comparison\", fontsize=20)\n",
    "ax.set_ylabel('Accuracy', fontsize=15)\n",
    "ax.set_xticks(x)\n",
    "ax.set_xticklabels(models, fontsize=15)\n",
    "ax.legend()\n",
    "for rect in rects:\n",
    "    height = rect.get_height()\n",
    "    ax.annotate('{}'.format(height),\n",
    "              xy=(rect.get_x() + rect.get_width() / 2, height),\n",
    "              xytext=(0, 3),  \n",
    "              textcoords=\"offset points\",\n",
    "              ha='center', va='bottom',fontsize = 15)"
   ]
  },
  {
   "cell_type": "code",
   "execution_count": null,
   "metadata": {},
   "outputs": [],
   "source": []
  }
 ],
 "metadata": {
  "kernelspec": {
   "display_name": "Python 3",
   "language": "python",
   "name": "python3"
  },
  "language_info": {
   "codemirror_mode": {
    "name": "ipython",
    "version": 3
   },
   "file_extension": ".py",
   "mimetype": "text/x-python",
   "name": "python",
   "nbconvert_exporter": "python",
   "pygments_lexer": "ipython3",
   "version": "3.7.1"
  }
 },
 "nbformat": 4,
 "nbformat_minor": 2
}
