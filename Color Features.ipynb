{
 "cells": [
  {
   "cell_type": "code",
   "execution_count": null,
   "metadata": {},
   "outputs": [],
   "source": [
    "import os\n",
    "import numpy as np\n",
    "import cv2\n",
    "import matplotlib.pyplot as plt"
   ]
  },
  {
   "cell_type": "code",
   "execution_count": 1,
   "metadata": {},
   "outputs": [
    {
     "ename": "SyntaxError",
     "evalue": "invalid syntax (<ipython-input-1-4fe5ed52d82a>, line 2)",
     "output_type": "error",
     "traceback": [
      "\u001b[1;36m  File \u001b[1;32m\"<ipython-input-1-4fe5ed52d82a>\"\u001b[1;36m, line \u001b[1;32m2\u001b[0m\n\u001b[1;33m    return cv2.(image, cv2.COLOR_BGR2RGB)\u001b[0m\n\u001b[1;37m               ^\u001b[0m\n\u001b[1;31mSyntaxError\u001b[0m\u001b[1;31m:\u001b[0m invalid syntax\n"
     ]
    }
   ],
   "source": [
    "def image_RGB(image):\n",
    "    return cv2.cvtColor(image, cv2.COLOR_BGR2RGB)\n",
    "\n",
    "def image_RGB_mean(image):\n",
    "    \"\"\"\n",
    "    Args:\n",
    "        image in RGB\n",
    "    Return:\n",
    "        A tuple of (Red, Green, Blue) with mean value among all non-black pixels    \n",
    "    \"\"\"\n",
    "    flattened = image.reshape(-1, image.shape[-1])\n",
    "    RED, GREEN, BLUE = (0,1,2)\n",
    "    red_components = flattened[:, RED]\n",
    "    green_components = flattened[:, GREEN]\n",
    "    blue_components = flattened[:, BLUE]\n",
    "    mask = (red_components != 0) or (green_components != 0) or (blue_components != 0)\n",
    "    RGB_mean = np.mean(flattened[mask, :])\n",
    "    red, green, blue = RGB_mean[0], RGB_mean[1], RGB_mean[2]\n",
    "    return red, green, blue"
   ]
  },
  {
   "cell_type": "code",
   "execution_count": null,
   "metadata": {},
   "outputs": [],
   "source": [
    "def image_HSV(image):\n",
    "    return cv2.cvtColor(frame, cv2.COLOR_BGR2HSV)\n",
    "\n",
    "def image_HSV_mean(image):\n",
    "    \"\"\"\n",
    "    Args:\n",
    "        image in HSV\n",
    "    Return:\n",
    "        A tuple of (Hue, Saturation, Value) with mean value among all non-black pixels    \n",
    "    \"\"\"\n",
    "    flattened = image.reshape(-1, image.shape[-1])\n",
    "    HUE, SATURATION, VALUE = (0,1,2)\n",
    "    hue_components = flattened[:, HUE]\n",
    "    saturation_components = flattened[:, SATURATION]\n",
    "    value_components = flattened[:, VALUE]\n",
    "    mask = (hue_components != 0) or (saturation_components != 0) or (value_components != 0)\n",
    "    HSV_mean = np.mean(flattened[mask, :])\n",
    "    hue, saturation, value = HSV_mean[0], HSV_mean[1], HSV_mean[2]\n",
    "    return hue, saturation, value"
   ]
  },
  {
   "cell_type": "code",
   "execution_count": null,
   "metadata": {},
   "outputs": [],
   "source": []
  }
 ],
 "metadata": {
  "kernelspec": {
   "display_name": "Python 3",
   "language": "python",
   "name": "python3"
  },
  "language_info": {
   "codemirror_mode": {
    "name": "ipython",
    "version": 3
   },
   "file_extension": ".py",
   "mimetype": "text/x-python",
   "name": "python",
   "nbconvert_exporter": "python",
   "pygments_lexer": "ipython3",
   "version": "3.7.0"
  }
 },
 "nbformat": 4,
 "nbformat_minor": 2
}
